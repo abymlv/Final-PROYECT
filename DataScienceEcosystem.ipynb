{
  "metadata": {
    "kernelspec": {
      "name": "python",
      "display_name": "Python (Pyodide)",
      "language": "python"
    },
    "language_info": {
      "codemirror_mode": {
        "name": "python",
        "version": 3
      },
      "file_extension": ".py",
      "mimetype": "text/x-python",
      "name": "python",
      "nbconvert_exporter": "python",
      "pygments_lexer": "ipython3",
      "version": "3.8"
    }
  },
  "nbformat_minor": 5,
  "nbformat": 4,
  "cells": [
    {
      "id": "89b25899-3171-48a9-8889-f119112584d6",
      "cell_type": "markdown",
      "source": "# Data Science Tools and Ecosystem",
      "metadata": {}
    },
    {
      "id": "cc7f25c9-1a6f-4c34-9896-f0bd70ad5594",
      "cell_type": "markdown",
      "source": "#In this notebook, Data Science Tools and Ecosystem are summarized.\n\n**Objectives:** \n- Popular Languages \n- Libraries\n- Tools\n- Arithmetic Expressions",
      "metadata": {}
    },
    {
      "id": "31feca6e-b3ed-4fcc-994d-375ea841675f",
      "cell_type": "markdown",
      "source": "**Overview:** Some of the popular languages that Data Scientists use are:",
      "metadata": {}
    },
    {
      "id": "04ebdf4c-7124-41b3-8bb9-256560077170",
      "cell_type": "markdown",
      "source": "1. SQL\n2. Python\n3. Java",
      "metadata": {}
    },
    {
      "id": "7fa683a1-2dc6-4792-b2bf-cde5b09fa514",
      "cell_type": "markdown",
      "source": "**Overview:** Some of the commonly used libraries used by Data Scientists include:",
      "metadata": {}
    },
    {
      "id": "a5386430-fd9a-46ee-91d3-31bf5ff80e66",
      "cell_type": "markdown",
      "source": "1. NumPy\n2. Keras\n3. Tensorflow",
      "metadata": {}
    },
    {
      "id": "2febecec-e9c5-458c-8a79-3ac01a3707dd",
      "cell_type": "markdown",
      "source": "| Data Science Tools | \n|--------------------|\n|My SQL              |\n|Hadoop              |\n|Cassandra           |\n",
      "metadata": {}
    },
    {
      "id": "8e638bb0-5baf-4eec-ab39-5f1d8624b1ac",
      "cell_type": "markdown",
      "source": "### Below are a few examples of evaluating arithmetic expressions in Python ###",
      "metadata": {}
    },
    {
      "id": "0ab28789-62cb-4ffe-9e43-504fc1234372",
      "cell_type": "code",
      "source": "#This a simple arithmetic expression to mutiply then add integers",
      "metadata": {
        "trusted": true
      },
      "outputs": [],
      "execution_count": 12
    },
    {
      "id": "bb878210-0e4a-424d-b47d-f02410901e23",
      "cell_type": "code",
      "source": "(3*4)+5",
      "metadata": {
        "trusted": true
      },
      "outputs": [
        {
          "execution_count": 11,
          "output_type": "execute_result",
          "data": {
            "text/plain": "17"
          },
          "metadata": {}
        }
      ],
      "execution_count": 11
    },
    {
      "id": "7caa25ba-7252-47e6-ae49-89e44fcc9749",
      "cell_type": "code",
      "source": "#This will convert 200 minutes to hours by diving by 60",
      "metadata": {
        "trusted": true
      },
      "outputs": [],
      "execution_count": null
    },
    {
      "id": "40b893bd-6df8-482e-85a7-14435d1bfbb9",
      "cell_type": "code",
      "source": "200/60",
      "metadata": {
        "trusted": true
      },
      "outputs": [
        {
          "execution_count": 13,
          "output_type": "execute_result",
          "data": {
            "text/plain": "3.3333333333333335"
          },
          "metadata": {}
        }
      ],
      "execution_count": 13
    },
    {
      "id": "f8ab0356-73ad-4a1d-9881-e12729572e18",
      "cell_type": "markdown",
      "source": "## Author ##\n*Gabriela Benavides*",
      "metadata": {}
    },
    {
      "id": "a9fc1175-3db0-462a-88f3-28da56b172c2",
      "cell_type": "code",
      "source": "",
      "metadata": {
        "trusted": true
      },
      "outputs": [],
      "execution_count": null
    }
  ]
}